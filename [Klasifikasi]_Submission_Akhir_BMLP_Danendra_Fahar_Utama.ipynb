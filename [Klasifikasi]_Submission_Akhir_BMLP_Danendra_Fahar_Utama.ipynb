{
  "nbformat": 4,
  "nbformat_minor": 0,
  "metadata": {
    "colab": {
      "provenance": [],
      "include_colab_link": true
    },
    "kernelspec": {
      "name": "python3",
      "display_name": "Python 3"
    },
    "language_info": {
      "name": "python"
    }
  },
  "cells": [
    {
      "cell_type": "markdown",
      "metadata": {
        "id": "view-in-github",
        "colab_type": "text"
      },
      "source": [
        "<a href=\"https://colab.research.google.com/github/danendrafau/customer-segmentation/blob/main/%5BKlasifikasi%5D_Submission_Akhir_BMLP_Danendra_Fahar_Utama.ipynb\" target=\"_parent\"><img src=\"https://colab.research.google.com/assets/colab-badge.svg\" alt=\"Open In Colab\"/></a>"
      ]
    },
    {
      "cell_type": "markdown",
      "source": [
        "# **1. Import Library**"
      ],
      "metadata": {
        "id": "fKADPWcFKlj3"
      }
    },
    {
      "cell_type": "markdown",
      "source": [
        "Pada tahap ini, Anda perlu mengimpor beberapa pustaka (library) Python yang dibutuhkan untuk analisis data dan pembangunan model machine learning."
      ],
      "metadata": {
        "id": "LgA3ERnVn84N"
      }
    },
    {
      "cell_type": "code",
      "source": [
        "import pandas as pd\n",
        "import numpy as np\n",
        "import matplotlib.pyplot as plt\n",
        "import seaborn as sns\n",
        "from sklearn.model_selection import train_test_split\n",
        "from sklearn.ensemble import RandomForestClassifier\n",
        "from sklearn.metrics import classification_report, accuracy_score"
      ],
      "metadata": {
        "id": "9swrDG-eVppi"
      },
      "execution_count": 14,
      "outputs": []
    },
    {
      "cell_type": "markdown",
      "source": [
        "# **2. Memuat Dataset dari Hasil Clustering**"
      ],
      "metadata": {
        "id": "f3YIEnAFKrKL"
      }
    },
    {
      "cell_type": "markdown",
      "source": [
        "Memuat dataset hasil clustering dari file CSV ke dalam variabel DataFrame."
      ],
      "metadata": {
        "id": "Ey3ItwTen_7E"
      }
    },
    {
      "cell_type": "code",
      "source": [
        "url = \"https://raw.githubusercontent.com/danendrafau/customer-segmentation/refs/heads/main/input_data/clustering_results.csv\"\n",
        "df = pd.read_csv(url)\n",
        "\n",
        "print(df.head())"
      ],
      "metadata": {
        "id": "8UYEsxkzW0mP",
        "outputId": "d26dc2ff-775e-4e72-cd6d-5e11b3f89997",
        "colab": {
          "base_uri": "https://localhost:8080/"
        }
      },
      "execution_count": 15,
      "outputs": [
        {
          "output_type": "stream",
          "name": "stdout",
          "text": [
            "   income_group_Menengah Atas  income_group_Menengah Bawah  \\\n",
            "0                         0.0                          0.0   \n",
            "1                         0.0                          0.0   \n",
            "2                         0.0                          1.0   \n",
            "3                         0.0                          0.0   \n",
            "4                         0.0                          0.0   \n",
            "\n",
            "   income_group_Rendah  income_group_Tinggi  spending_ratio  family_size  \\\n",
            "0                  1.0                  0.0        0.109474        0.375   \n",
            "1                  1.0                  0.0        0.097444        0.250   \n",
            "2                  0.0                  0.0        0.002938        0.000   \n",
            "3                  1.0                  0.0        0.054951        0.125   \n",
            "4                  1.0                  0.0        0.044321        0.625   \n",
            "\n",
            "   cluster  \n",
            "0        2  \n",
            "1        2  \n",
            "2        0  \n",
            "3        2  \n",
            "4        2  \n"
          ]
        }
      ]
    },
    {
      "cell_type": "markdown",
      "source": [
        "# **3. Data Splitting**"
      ],
      "metadata": {
        "id": "KkPem5eWL2UP"
      }
    },
    {
      "cell_type": "markdown",
      "source": [
        "Tahap Data Splitting bertujuan untuk memisahkan dataset menjadi dua bagian: data latih (training set) dan data uji (test set)."
      ],
      "metadata": {
        "id": "YYj1rl_JNI9Y"
      }
    },
    {
      "cell_type": "code",
      "source": [
        "#pisah\n",
        "X = df.drop('cluster', axis=1)\n",
        "y = df['cluster']\n",
        "\n",
        "X_train, X_test, y_train, y_test = train_test_split(X, y, test_size=0.2, random_state=42) #test_size=0.2 = 20% data buat testing\n",
        "\n",
        "print(\"Ukuran X_train:\", X_train.shape)\n",
        "print(\"Ukuran X_test:\", X_test.shape)\n",
        "print(\"Ukuran y_train:\", y_train.shape)\n",
        "print(\"Ukuran y_test:\", y_test.shape)"
      ],
      "metadata": {
        "id": "yKHKj3hOXB8y",
        "outputId": "b805c076-b6bd-4421-b337-d9b8d5d1088b",
        "colab": {
          "base_uri": "https://localhost:8080/"
        }
      },
      "execution_count": 16,
      "outputs": [
        {
          "output_type": "stream",
          "name": "stdout",
          "text": [
            "Ukuran X_train: (981, 6)\n",
            "Ukuran X_test: (246, 6)\n",
            "Ukuran y_train: (981,)\n",
            "Ukuran y_test: (246,)\n"
          ]
        }
      ]
    },
    {
      "cell_type": "markdown",
      "source": [
        "# **4. Membangun Model Klasifikasi**\n"
      ],
      "metadata": {
        "id": "IVPbB03CMhTT"
      }
    },
    {
      "cell_type": "markdown",
      "source": [
        "## **a. Membangun Model Klasifikasi**"
      ],
      "metadata": {
        "id": "Ned1pL9zMmBK"
      }
    },
    {
      "cell_type": "markdown",
      "source": [
        "Setelah memilih algoritma klasifikasi yang sesuai, langkah selanjutnya adalah melatih model menggunakan data latih.\n",
        "\n",
        "Berikut adalah rekomendasi tahapannya.\n",
        "1. Pilih algoritma klasifikasi yang sesuai, seperti Logistic Regression, Decision Tree, Random Forest, atau K-Nearest Neighbors (KNN).\n",
        "2. Latih model menggunakan data latih."
      ],
      "metadata": {
        "id": "WAWzPOE4Nkti"
      }
    },
    {
      "cell_type": "code",
      "source": [
        "#init model RandomForestClassifier\n",
        "model = RandomForestClassifier(random_state=42)\n",
        "\n",
        "#training\n",
        "model.fit(X_train, y_train)\n",
        "\n",
        "#prediksi\n",
        "y_pred = model.predict(X_test)\n",
        "\n",
        "#evaluasi\n",
        "print(classification_report(y_test, y_pred))\n",
        "print(\"Akurasi:\", accuracy_score(y_test, y_pred))"
      ],
      "metadata": {
        "id": "VNl72tZYXeta",
        "outputId": "8fdc2a1d-2eb1-4a2f-c2c3-38d85a4f6319",
        "colab": {
          "base_uri": "https://localhost:8080/"
        }
      },
      "execution_count": 17,
      "outputs": [
        {
          "output_type": "stream",
          "name": "stdout",
          "text": [
            "              precision    recall  f1-score   support\n",
            "\n",
            "           0       1.00      1.00      1.00        59\n",
            "           1       1.00      1.00      1.00        59\n",
            "           2       1.00      1.00      1.00        58\n",
            "           3       1.00      1.00      1.00        70\n",
            "\n",
            "    accuracy                           1.00       246\n",
            "   macro avg       1.00      1.00      1.00       246\n",
            "weighted avg       1.00      1.00      1.00       246\n",
            "\n",
            "Akurasi: 1.0\n"
          ]
        }
      ]
    },
    {
      "cell_type": "markdown",
      "source": [
        "Tulis narasi atau penjelasan algoritma yang Anda gunakan."
      ],
      "metadata": {
        "id": "seYoHNY3XU1y"
      }
    },
    {
      "cell_type": "markdown",
      "source": [
        "Model yang digunakan untuk melakukan klasifikasi pada dataset ini adalah Random Forest.\n",
        "\n",
        "Dalam konteks kode yang diberikan:\n",
        "\n",
        "* Model Random Forest diinisialisasi dengan\n",
        "RandomForestClassifier(random_state=42).\n",
        "Model dilatih menggunakan data training (X_train, y_train) dengan memanggil fungsi fit().\n",
        "* Prediksi dilakukan pada data testing (X_test) menggunakan fungsi predict().\n",
        "* Hasil prediksi dievaluasi menggunakan classification_report dan accuracy_score untuk mengukur performa model."
      ],
      "metadata": {
        "id": "VVcctE6jYMYM"
      }
    },
    {
      "cell_type": "markdown",
      "source": [
        "Berikut adalah **rekomendasi** tahapannya.\n",
        "1. Lakukan prediksi menggunakan data uji.\n",
        "2. Hitung metrik evaluasi seperti Accuracy dan F1-Score (Opsional: Precision dan Recall).\n",
        "3. Buat confusion matrix untuk melihat detail prediksi benar dan salah."
      ],
      "metadata": {
        "id": "zOm68u-7NpLT"
      }
    },
    {
      "cell_type": "code",
      "source": [
        "#Type your code here"
      ],
      "metadata": {
        "id": "tMq4QAssNLip"
      },
      "execution_count": 18,
      "outputs": []
    },
    {
      "cell_type": "markdown",
      "source": [
        "Tulis hasil evaluasi algoritma yang digunakan, jika Anda menggunakan 2 algoritma, maka bandingkan hasilnya."
      ],
      "metadata": {
        "id": "H4_9OwrsXZlz"
      }
    },
    {
      "cell_type": "markdown",
      "source": [
        "## **c. Tuning Model Klasifikasi (Optional)**"
      ],
      "metadata": {
        "id": "ph9yIYDXEPuB"
      }
    },
    {
      "cell_type": "markdown",
      "source": [
        "Gunakan GridSearchCV, RandomizedSearchCV, atau metode lainnya untuk mencari kombinasi hyperparameter terbaik"
      ],
      "metadata": {
        "id": "-Bikx3LINv5e"
      }
    },
    {
      "cell_type": "code",
      "source": [
        "#Type your code here"
      ],
      "metadata": {
        "id": "winbFzb8NL95"
      },
      "execution_count": 19,
      "outputs": []
    },
    {
      "cell_type": "markdown",
      "source": [
        "## **d. Evaluasi Model Klasifikasi setelah Tuning (Optional)**"
      ],
      "metadata": {
        "id": "hE7pqlEPEYzI"
      }
    },
    {
      "cell_type": "markdown",
      "source": [
        "Berikut adalah rekomendasi tahapannya.\n",
        "1. Gunakan model dengan hyperparameter terbaik.\n",
        "2. Hitung ulang metrik evaluasi untuk melihat apakah ada peningkatan performa."
      ],
      "metadata": {
        "id": "feaPESoeN0zz"
      }
    },
    {
      "cell_type": "code",
      "source": [
        "#Type your code here"
      ],
      "metadata": {
        "id": "HTXZRvEeNMb1"
      },
      "execution_count": 20,
      "outputs": []
    },
    {
      "cell_type": "markdown",
      "source": [
        "## **e. Analisis Hasil Evaluasi Model Klasifikasi**"
      ],
      "metadata": {
        "id": "ZRsOdm4uEgAW"
      }
    },
    {
      "cell_type": "markdown",
      "source": [
        "Berikut adalah **rekomendasi** tahapannya.\n",
        "1. Bandingkan hasil evaluasi sebelum dan setelah tuning (jika dilakukan).\n",
        "2. Identifikasi kelemahan model, seperti:\n",
        "  - Precision atau Recall rendah untuk kelas tertentu.\n",
        "  - Apakah model mengalami overfitting atau underfitting?\n",
        "3. Berikan rekomendasi tindakan lanjutan, seperti mengumpulkan data tambahan atau mencoba algoritma lain jika hasil belum memuaskan."
      ],
      "metadata": {
        "id": "Hm3BhSi6N4_l"
      }
    }
  ]
}